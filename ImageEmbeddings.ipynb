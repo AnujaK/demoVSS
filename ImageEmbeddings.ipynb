{
 "cells": [
  {
   "cell_type": "code",
   "execution_count": 26,
   "id": "0af77045-26ba-42b3-84ea-a1454ac06bca",
   "metadata": {},
   "outputs": [
    {
     "name": "stderr",
     "output_type": "stream",
     "text": [
      "/Users/edsandoval/opt/anaconda3/envs/vsim/lib/python3.8/site-packages/torchvision/transforms/transforms.py:310: UserWarning: The use of the transforms.Scale transform is deprecated, please use transforms.Resize instead.\n",
      "  warnings.warn(\"The use of the transforms.Scale transform is deprecated, \" +\n"
     ]
    }
   ],
   "source": [
    "from img2vec_pytorch import Img2Vec\n",
    "from PIL import Image\n",
    "\n",
    "# Initialize Img2Vec defaults to Resnet-18 with layer = 'avgpool', layer_output_size = 512\n",
    "img2vec = Img2Vec()"
   ]
  },
  {
   "cell_type": "code",
   "execution_count": 9,
   "id": "cd201a6b-3d43-433a-84d8-deeec3b45d29",
   "metadata": {},
   "outputs": [],
   "source": [
    "# Read in an image (rgb format)\n",
    "img = Image.open('./data/V5-1361683-090_FSF.jpeg')\n",
    "# Get a vector from img2vec, returned as a torch FloatTensor\n",
    "#vec = img2vec.get_vec(img, tensor=True)\n",
    "# Or submit a list\n",
    "#vectors = img2vec.get_vec(list_of_PIL_images)"
   ]
  },
  {
   "cell_type": "code",
   "execution_count": 10,
   "id": "724efb49-b961-4505-a229-e9cff0e43cd8",
   "metadata": {},
   "outputs": [
    {
     "data": {
      "text/plain": [
       "'JPEG'"
      ]
     },
     "execution_count": 10,
     "metadata": {},
     "output_type": "execute_result"
    }
   ],
   "source": [
    "img.format"
   ]
  },
  {
   "cell_type": "code",
   "execution_count": 23,
   "id": "0f5841f2-0944-45a1-944c-64d89a8e930e",
   "metadata": {},
   "outputs": [],
   "source": [
    "vec = img2vec.get_vec(img)"
   ]
  },
  {
   "cell_type": "code",
   "execution_count": 28,
   "id": "8b97ff0b-bd67-4d9f-b6b3-3413944f458e",
   "metadata": {},
   "outputs": [],
   "source": []
  },
  {
   "cell_type": "code",
   "execution_count": 51,
   "id": "5253f0c8-d6b3-40c7-b74e-0d361c144338",
   "metadata": {},
   "outputs": [
    {
     "name": "stdout",
     "output_type": "stream",
     "text": [
      "exception processing ./data/images/ff8e57c2.jpg\n",
      "exception processing ./data/images/ffa13dbb.jpg\n",
      "exception processing ./data/images/ff37840b.jpg\n",
      "exception processing ./data/images/ff821d94.jpg\n",
      "exception processing ./data/images/fffcb73a.jpg\n",
      "exception processing ./data/images/ffe68ab8.jpg\n",
      "exception processing ./data/images/fff73779.jpg\n",
      "exception processing ./data/images/ff1ba390.jpg\n",
      "exception processing ./data/images/ff265354.jpg\n",
      "exception processing ./data/images/ffbb82fb.jpg.prob.jpg\n",
      "exception processing ./data/images/ff749dd4.jpg\n",
      "exception processing ./data/images/ff943792.jpg\n",
      "exception processing ./data/images/ffcbf272.jpg\n",
      "exception processing ./data/images/ff8e7bff.jpg\n",
      "exception processing ./data/images/ff265d66.jpg\n",
      "exception processing ./data/images/ffa936b3.jpg\n",
      "exception processing ./data/images/ff97c5f2.jpg\n",
      "exception processing ./data/images/ff556f44.jpg.old.jpg\n",
      "exception processing ./data/images/ff82acac.jpg\n",
      "exception processing ./data/images/ff5902f0.jpg\n",
      "exception processing ./data/images/ff052d47.jpg\n",
      "exception processing ./data/images/ff6ce605.jpg\n",
      "exception processing ./data/images/ff3b7f7e.jpg\n",
      "exception processing ./data/images/ffafcfc6.jpg\n",
      "exception processing ./data/images/ffab7657.jpg\n",
      "exception processing ./data/images/ff02f381.jpg\n",
      "exception processing ./data/images/ff5c53c3.jpg\n",
      "exception processing ./data/images/ff944440.jpg\n",
      "exception processing ./data/images/ff99fc68.jpg\n",
      "exception processing ./data/images/ff6b9fda.jpg\n",
      "exception processing ./data/images/ff6c0cb8.jpg\n",
      "exception processing ./data/images/ffad4c1f.jpg\n",
      "exception processing ./data/images/ffa6d516.jpg.old.jpg\n",
      "exception processing ./data/images/ff6c1edd.jpg\n",
      "exception processing ./data/images/ffa33325.jpg\n",
      "exception processing ./data/images/ffcb2468.jpg\n",
      "CPU times: user 1min 46s, sys: 18.8 s, total: 2min 4s\n",
      "Wall time: 1min 54s\n"
     ]
    }
   ],
   "source": [
    "%%time\n",
    "\n",
    "import glob\n",
    "image_files = glob.glob(\"./data/images/*.jpg\")\n",
    "image_dict = {}\n",
    "for f in image_files:\n",
    "    try:\n",
    "        img = Image.open(f)\n",
    "        vec = img2vec.get_vec(img)\n",
    "        image_dict[f]=vec\n",
    "    except:\n",
    "        print('exception processing ' + f)\n",
    "\n",
    "\n"
   ]
  },
  {
   "cell_type": "code",
   "execution_count": null,
   "id": "03c184f4-c2b6-46e1-9449-bd83d7b3159d",
   "metadata": {},
   "outputs": [],
   "source": [
    "image_dict['./data/images/ff18679a.jpg']"
   ]
  },
  {
   "cell_type": "code",
   "execution_count": null,
   "id": "8b61655d-7337-4512-9b12-fd7467269779",
   "metadata": {},
   "outputs": [],
   "source": [
    "len(image_dict)"
   ]
  },
  {
   "cell_type": "code",
   "execution_count": null,
   "id": "aa671ea8-f6cc-4ee7-92e8-86da09edc6a0",
   "metadata": {},
   "outputs": [],
   "source": [
    "image_dict"
   ]
  },
  {
   "cell_type": "code",
   "execution_count": null,
   "id": "b9772e2e-9c78-45d3-833b-35b3abdc0cf7",
   "metadata": {},
   "outputs": [],
   "source": []
  }
 ],
 "metadata": {
  "kernelspec": {
   "display_name": "Python [conda env:vsim] *",
   "language": "python",
   "name": "conda-env-vsim-py"
  },
  "language_info": {
   "codemirror_mode": {
    "name": "ipython",
    "version": 3
   },
   "file_extension": ".py",
   "mimetype": "text/x-python",
   "name": "python",
   "nbconvert_exporter": "python",
   "pygments_lexer": "ipython3",
   "version": "3.8.12"
  }
 },
 "nbformat": 4,
 "nbformat_minor": 5
}
