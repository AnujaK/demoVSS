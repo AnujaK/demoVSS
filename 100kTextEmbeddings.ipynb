{
 "cells": [
  {
   "cell_type": "code",
   "execution_count": 2,
   "id": "fe5cea5e-9bfc-469a-ae51-5bbf21c5df33",
   "metadata": {},
   "outputs": [],
   "source": [
    "import random\n",
    "import numpy as np\n",
    "import pandas as pd\n",
    "import time\n",
    "from redis import Redis\n",
    "import redisearch\n",
    "\n",
    "class color:\n",
    "   PURPLE = '\\033[95m'\n",
    "   CYAN = '\\033[96m'\n",
    "   DARKCYAN = '\\033[36m'\n",
    "   BLUE = '\\033[94m'\n",
    "   GREEN = '\\033[92m'\n",
    "   YELLOW = '\\033[93m'\n",
    "   RED = '\\033[91m'\n",
    "   BOLD = '\\033[1m'\n",
    "   UNDERLINE = '\\033[4m'\n",
    "   END = '\\033[0m'\n"
   ]
  },
  {
   "cell_type": "markdown",
   "id": "ba969e44-d988-43bd-9953-73bdc3c19a1c",
   "metadata": {
    "tags": []
   },
   "source": [
    "# Load Amazon Product Data\n",
    "\n",
    "Truncate text selected fields on load.  \n",
    "\n",
    "The Max Length supported by the pre-trained sentence embedding generator is 512"
   ]
  },
  {
   "cell_type": "code",
   "execution_count": 3,
   "id": "dc187a4a-ef97-41fc-92c7-d0c34eb5ada0",
   "metadata": {},
   "outputs": [],
   "source": [
    "MAX_TEXT_LENGTH=512\n",
    "\n",
    "def auto_truncate(val):\n",
    "    return val[:MAX_TEXT_LENGTH]\n",
    "\n",
    "#Load Product data and truncate long text fields\n",
    "all_prods_df = pd.read_csv(\"data/product_data.csv\", converters={'bullet_point': auto_truncate,'item_keywords':auto_truncate,'item_name':auto_truncate})\n",
    "all_prods_df['primary_key'] = all_prods_df['item_id'] + '-' + all_prods_df['domain_name']\n",
    "all_prods_df = all_prods_df.fillna('')\n",
    "\n"
   ]
  },
  {
   "cell_type": "code",
   "execution_count": 4,
   "id": "50c78cdd-49f6-40da-a391-eeb1d2af8139",
   "metadata": {},
   "outputs": [
    {
     "data": {
      "text/html": [
       "<div>\n",
       "<style scoped>\n",
       "    .dataframe tbody tr th:only-of-type {\n",
       "        vertical-align: middle;\n",
       "    }\n",
       "\n",
       "    .dataframe tbody tr th {\n",
       "        vertical-align: top;\n",
       "    }\n",
       "\n",
       "    .dataframe thead th {\n",
       "        text-align: right;\n",
       "    }\n",
       "</style>\n",
       "<table border=\"1\" class=\"dataframe\">\n",
       "  <thead>\n",
       "    <tr style=\"text-align: right;\">\n",
       "      <th></th>\n",
       "      <th>item_id</th>\n",
       "      <th>marketplace</th>\n",
       "      <th>country</th>\n",
       "      <th>main_image_id</th>\n",
       "      <th>domain_name</th>\n",
       "      <th>bullet_point</th>\n",
       "      <th>item_keywords</th>\n",
       "      <th>material</th>\n",
       "      <th>brand</th>\n",
       "      <th>color</th>\n",
       "      <th>item_name</th>\n",
       "      <th>model_name</th>\n",
       "      <th>model_number</th>\n",
       "      <th>product_type</th>\n",
       "      <th>primary_key</th>\n",
       "    </tr>\n",
       "  </thead>\n",
       "  <tbody>\n",
       "    <tr>\n",
       "      <th>0</th>\n",
       "      <td>B07T6RZ2CM</td>\n",
       "      <td>Amazon</td>\n",
       "      <td>IN</td>\n",
       "      <td>71dZhpsferL</td>\n",
       "      <td>amazon.in</td>\n",
       "      <td>3D Printed Hard Back Case Mobile Cover for Len...</td>\n",
       "      <td>mobile cover back cover mobile case phone case...</td>\n",
       "      <td></td>\n",
       "      <td>Amazon Brand - Solimo</td>\n",
       "      <td>Others</td>\n",
       "      <td>Amazon Brand - Solimo Designer Couples Sitting...</td>\n",
       "      <td>Lenovo K4 Note</td>\n",
       "      <td>gz8115-SL40423</td>\n",
       "      <td>CELLULAR_PHONE_CASE</td>\n",
       "      <td>B07T6RZ2CM-amazon.in</td>\n",
       "    </tr>\n",
       "    <tr>\n",
       "      <th>1</th>\n",
       "      <td>B07T2JY31Y</td>\n",
       "      <td>Amazon</td>\n",
       "      <td>IN</td>\n",
       "      <td>71vX7qIEAIL</td>\n",
       "      <td>amazon.in</td>\n",
       "      <td>3D Printed Hard Back Case Mobile Cover for Son...</td>\n",
       "      <td>mobile cover back cover mobile case phone case...</td>\n",
       "      <td>Wood</td>\n",
       "      <td>Amazon Brand - Solimo</td>\n",
       "      <td>others</td>\n",
       "      <td>Amazon Brand - Solimo Designer Leaf on Wood 3D...</td>\n",
       "      <td>Sony Xperia Z1 L39H</td>\n",
       "      <td>gz8056-SL40528</td>\n",
       "      <td>CELLULAR_PHONE_CASE</td>\n",
       "      <td>B07T2JY31Y-amazon.in</td>\n",
       "    </tr>\n",
       "    <tr>\n",
       "      <th>2</th>\n",
       "      <td>B0849YGSCZ</td>\n",
       "      <td>Amazon</td>\n",
       "      <td>AE</td>\n",
       "      <td>A1EZF-2mB5L</td>\n",
       "      <td>amazon.ae</td>\n",
       "      <td></td>\n",
       "      <td>small de fur rooms navidad woven girls shag pa...</td>\n",
       "      <td></td>\n",
       "      <td>Stone &amp; Beam</td>\n",
       "      <td></td>\n",
       "      <td>Stone &amp; Beam Contemporary Doily Wool Farmhouse...</td>\n",
       "      <td></td>\n",
       "      <td>I59I8044IVYGRYC00-Parent</td>\n",
       "      <td>HOME_FURNITURE_AND_DECOR</td>\n",
       "      <td>B0849YGSCZ-amazon.ae</td>\n",
       "    </tr>\n",
       "  </tbody>\n",
       "</table>\n",
       "</div>"
      ],
      "text/plain": [
       "      item_id marketplace country main_image_id domain_name  \\\n",
       "0  B07T6RZ2CM      Amazon      IN   71dZhpsferL   amazon.in   \n",
       "1  B07T2JY31Y      Amazon      IN   71vX7qIEAIL   amazon.in   \n",
       "2  B0849YGSCZ      Amazon      AE   A1EZF-2mB5L   amazon.ae   \n",
       "\n",
       "                                        bullet_point  \\\n",
       "0  3D Printed Hard Back Case Mobile Cover for Len...   \n",
       "1  3D Printed Hard Back Case Mobile Cover for Son...   \n",
       "2                                                      \n",
       "\n",
       "                                       item_keywords material  \\\n",
       "0  mobile cover back cover mobile case phone case...            \n",
       "1  mobile cover back cover mobile case phone case...     Wood   \n",
       "2  small de fur rooms navidad woven girls shag pa...            \n",
       "\n",
       "                   brand   color  \\\n",
       "0  Amazon Brand - Solimo  Others   \n",
       "1  Amazon Brand - Solimo  others   \n",
       "2           Stone & Beam           \n",
       "\n",
       "                                           item_name           model_name  \\\n",
       "0  Amazon Brand - Solimo Designer Couples Sitting...       Lenovo K4 Note   \n",
       "1  Amazon Brand - Solimo Designer Leaf on Wood 3D...  Sony Xperia Z1 L39H   \n",
       "2  Stone & Beam Contemporary Doily Wool Farmhouse...                        \n",
       "\n",
       "               model_number              product_type           primary_key  \n",
       "0            gz8115-SL40423       CELLULAR_PHONE_CASE  B07T6RZ2CM-amazon.in  \n",
       "1            gz8056-SL40528       CELLULAR_PHONE_CASE  B07T2JY31Y-amazon.in  \n",
       "2  I59I8044IVYGRYC00-Parent  HOME_FURNITURE_AND_DECOR  B0849YGSCZ-amazon.ae  "
      ]
     },
     "execution_count": 4,
     "metadata": {},
     "output_type": "execute_result"
    }
   ],
   "source": [
    "all_prods_df.head(3)"
   ]
  },
  {
   "cell_type": "markdown",
   "id": "b2261b86-598b-4ab4-be93-e58f34aff3dd",
   "metadata": {
    "tags": []
   },
   "source": [
    "# Connect to Redis"
   ]
  },
  {
   "cell_type": "code",
   "execution_count": 5,
   "id": "ef37492f-3360-4cd5-8dd2-23ccdd2b9042",
   "metadata": {},
   "outputs": [
    {
     "name": "stdout",
     "output_type": "stream",
     "text": [
      "Connected to redis\n"
     ]
    }
   ],
   "source": [
    "host = 'localhost'\n",
    "port = 6379\n",
    "redis_conn = Redis(host = host, port = port)\n",
    "print ('Connected to redis')"
   ]
  },
  {
   "cell_type": "markdown",
   "id": "fde0ad07-363e-4414-8684-bbf6c1d13409",
   "metadata": {
    "tags": []
   },
   "source": [
    "# Load Previously Created Embeddings\n",
    "\n",
    "Let's load the vector embeddings for the first 100k products in the dataset.\n",
    "\n",
    "These embeddings were generated usign a pre-trained sentence embedding model\n",
    "https://huggingface.co/sentence-transformers/all-distilroberta-v1"
   ]
  },
  {
   "cell_type": "code",
   "execution_count": 6,
   "id": "1dbf1ccf-1d3a-4f8b-9457-a9fb648859dc",
   "metadata": {},
   "outputs": [],
   "source": [
    "from sentence_transformers import SentenceTransformer\n",
    "model = SentenceTransformer('sentence-transformers/all-distilroberta-v1')"
   ]
  },
  {
   "cell_type": "markdown",
   "id": "d5298c8d-3b69-4927-93b5-1981ee729f60",
   "metadata": {
    "tags": []
   },
   "source": [
    "\n",
    "Generate vector representations of the \"item_keywords\"  field for 100,000 products\n",
    "\n",
    "The distilroberta-v1 model generates a 768-float vector for an input sentence (of up to 512 characters in length)"
   ]
  },
  {
   "cell_type": "code",
   "execution_count": 7,
   "id": "78834b6f-c383-453d-bd35-e0613c7274ac",
   "metadata": {},
   "outputs": [
    {
     "name": "stdout",
     "output_type": "stream",
     "text": [
      "CPU times: user 1.41 ms, sys: 229 ms, total: 231 ms\n",
      "Wall time: 464 ms\n"
     ]
    }
   ],
   "source": [
    "%%time\n",
    "NUMBER_PRODUCTS=100000\n",
    "\n",
    "subset_df = all_prods_df.head(NUMBER_PRODUCTS)\n",
    "#item_keywords_vectors = [ model.encode(sentence) for sentence in subset_df['item_keywords']]\n",
    "\n",
    "item_keywords_vectors = np.load('100k-item-keyword-vectors.npy')\n"
   ]
  },
  {
   "cell_type": "markdown",
   "id": "39427b16-dc63-45f9-8a2f-e032d8cb010f",
   "metadata": {
    "tags": []
   },
   "source": [
    "### Check the dimensions of one of the vectors generated"
   ]
  },
  {
   "cell_type": "code",
   "execution_count": 7,
   "id": "6593534b-9a81-4da3-ae71-7492ef343789",
   "metadata": {},
   "outputs": [
    {
     "data": {
      "text/plain": [
       "768"
      ]
     },
     "execution_count": 7,
     "metadata": {},
     "output_type": "execute_result"
    }
   ],
   "source": [
    "item_keywords_vectors[0].shape[0]"
   ]
  },
  {
   "cell_type": "markdown",
   "id": "dbc7f4d2-1c1a-4847-bf6d-b08610b30c01",
   "metadata": {
    "tags": []
   },
   "source": [
    "# Utility Functions to Load Product Data\n",
    "Each product will be stored in a redis hash\n",
    "* **Hash Key** = **'product:'** + **product_key**\n",
    "* **Hash Fields:** \n",
    "    * Item Id\n",
    "    * Item Name\n",
    "    * Item Keywords (text)\n",
    "    * Item Keywords vector - 768-float vector\n",
    " "
   ]
  },
  {
   "cell_type": "code",
   "execution_count": 10,
   "id": "e86b393b-2273-4f26-8779-73896b43c1f9",
   "metadata": {},
   "outputs": [],
   "source": [
    "def load_vectors(client:Redis, product_df, vector_data,vector_field_name):\n",
    "    p = client.pipeline(transaction=False)\n",
    "    for index, row in product_df.iterrows():    \n",
    "        #hash key\n",
    "        key='product:'+ product_df.iloc[index]['primary_key']\n",
    "        #hash fields\n",
    "        item_id=product_df.iloc[index]['item_id']\n",
    "        item_keywords=product_df.iloc[index]['item_keywords']\n",
    "        item_name=product_df.iloc[index]['item_name']\n",
    "        item_keywords_vector = vector_data[index].astype(np.float32).tobytes()\n",
    "        product_data_values ={'item_id':item_id,'item_keywords':item_keywords,\n",
    "                 'item_name':item_name,\n",
    "                 vector_field_name:item_keywords_vector}\n",
    "        \n",
    "        p.hset(key,mapping=product_data_values)\n",
    "    p.execute()\n",
    "    \n",
    "        \n",
    "def delete_data(client: Redis):\n",
    "    client.flushall()"
   ]
  },
  {
   "cell_type": "markdown",
   "id": "5607848c-ce11-44d2-892f-1ffb4778f405",
   "metadata": {},
   "source": [
    "# Utility Functions to Create Indexes on Vector field"
   ]
  },
  {
   "cell_type": "code",
   "execution_count": 11,
   "id": "54a6d4e3-b15d-499e-864d-c420fe140810",
   "metadata": {},
   "outputs": [],
   "source": [
    "def create_bf_index (redis_conn,index_name,vector_field_name,number_of_vectors, vector_dimensions=768, distance_metric='L2'):\n",
    "    bf_index = redisearch.Client(index_name, conn=redis_conn)\n",
    "    bf_index.redis.execute_command(\"FT.CREATE\", index_name, \"SCHEMA\",vector_field_name, \"VECTOR\", \"FLOAT32\", vector_dimensions, distance_metric, \"BF\", \"INITIAL_CAP\", number_of_vectors)\n",
    "    return bf_index\n",
    "\n",
    "def create_hnsw_index (redis_conn,index_name,vector_field_name,number_of_vectors, vector_dimensions=768, distance_metric='L2',M=40,EF=200):\n",
    "    hnsw_index = redisearch.Client(index_name, conn=redis_conn)\n",
    "    hnsw_index.redis.execute_command(\"FT.CREATE\", index_name, \"SCHEMA\", vector_field_name, \"VECTOR\", \"FLOAT32\", vector_dimensions, distance_metric, \"HNSW\", \"INITIAL_CAP\", number_of_vectors, \"M\", M, \"EF\", EF)\n",
    "    return hnsw_index\n",
    "\n",
    "def delete_index(vector_index):\n",
    "    delete_data(vector_index.redis)\n",
    "    "
   ]
  },
  {
   "cell_type": "markdown",
   "id": "a182f643-20ca-4306-88b3-bb34c1a96175",
   "metadata": {},
   "source": [
    "# Utility Functions to Perform Similarity Search \n",
    "Using different indexing methods"
   ]
  },
  {
   "cell_type": "code",
   "execution_count": 12,
   "id": "932d18c9-4462-43d8-8133-d189ae09b261",
   "metadata": {},
   "outputs": [],
   "source": [
    "def find_similar_products_bf(product_query, query_encoder, vector_index,vector_field_name, topK=5):\n",
    "    #vectorize the query\n",
    "    query_vector = query_encoder.encode(product_query).astype(np.float32).tobytes()\n",
    "    #prepare the query\n",
    "    q = redisearch.Query(f'@{vector_field_name}:[$vec_param TOPK {topK}]').sort_by(f'{vector_field_name}_score').paging(0,topK).return_fields(f'{vector_field_name}_score','item_name','item_keywords')\n",
    "    #Execute the query\n",
    "    results = vector_index.search(q, query_params = {'vec_param': query_vector})\n",
    "    return results \n",
    "\n",
    "def find_similar_products_hnsw(product_query, query_encoder, vector_index,vector_field_name, topK=5,EF=5):\n",
    "    #vectorize the query\n",
    "    query_vector = query_encoder.encode(product_query).astype(np.float32).tobytes()\n",
    "    #prepare the query\n",
    "    q = redisearch.Query(f'@{vector_field_name}:[$vec_param TOPK {topK}]  => {{$EFRUNTIME : {EF}}}').sort_by(f'{vector_field_name}_score').paging(0,topK).return_fields(f'{vector_field_name}_score','item_name','item_keywords')\n",
    "    #Execute the query\n",
    "    results = vector_index.search(q, query_params = {'vec_param': query_vector})\n",
    "    return results \n",
    "\n"
   ]
  },
  {
   "cell_type": "markdown",
   "id": "7ab8085f-b70b-4e8f-831a-21a78d7273a1",
   "metadata": {
    "tags": []
   },
   "source": [
    "# Brute-Force - Load and Index Product Data\n",
    "Load and index product data using a brute-force Index on the 'item_keywords_vector' field.\n",
    "This index is used to calculate Top K Exact Nearest Neighbors of a given vector"
   ]
  },
  {
   "cell_type": "code",
   "execution_count": 13,
   "id": "71a27ca3-5ce0-4174-aac1-86ffa6224070",
   "metadata": {},
   "outputs": [
    {
     "name": "stdout",
     "output_type": "stream",
     "text": [
      "Loading and Indexing + 100000 products\n",
      "CPU times: user 31.2 s, sys: 1.19 s, total: 32.4 s\n",
      "Wall time: 39.5 s\n"
     ]
    }
   ],
   "source": [
    "%%time\n",
    "print ('Loading and Indexing + ' +  str(NUMBER_PRODUCTS) + ' products')\n",
    "my_bf_index = create_bf_index(redis_conn,'my_bf_index','item_keywords_vector',NUMBER_PRODUCTS,768,'L2')\n",
    "load_vectors(my_bf_index.redis,subset_df,item_keywords_vectors,'item_keywords_vector')"
   ]
  },
  {
   "cell_type": "markdown",
   "id": "bcdd5a01-5736-4081-b3e4-1551bbb9bd0f",
   "metadata": {},
   "source": [
    "# Brute-Force - Query The Top 5 Similar Products\n",
    "Let's use the brute-force index to find the exact top k nearest neighbors of a given text query\n",
    "\n",
    "Check the output for 2 very different queries:\n",
    "* Query 1 = 'Fantastic piece of handmade jewllery for a special occasion'\n",
    "* Query 2 = 'Ultra modern cool way to pimp up my phone'\n",
    "\n"
   ]
  },
  {
   "cell_type": "code",
   "execution_count": 14,
   "id": "7370b56a-1cd2-400b-9b97-ecc6750992ed",
   "metadata": {},
   "outputs": [
    {
     "name": "stdout",
     "output_type": "stream",
     "text": [
      "***************Product  found ************\n",
      "\u001b[1mhash key = \u001b[0mproduct:B07XVNL49K-amazon.com\n",
      "\u001b[93mItem Name = \u001b[0m10k White Gold Amethyst and Diamond Accent Pendant Necklace\n",
      "\u001b[93mItem Keywords = \u001b[0mpendant necklace jewelry\n",
      "***************Product  found ************\n",
      "\u001b[1mhash key = \u001b[0mproduct:B07L3C8BGG-amazon.com\n",
      "\u001b[93mItem Name = \u001b[0mPlatinum or Gold Plated Sterling Silver Criss Cross \"X\" Ring made with Swarovski Zirconia\n",
      "\u001b[93mItem Keywords = \u001b[0mzirconia engagement jewelry\n",
      "***************Product  found ************\n",
      "\u001b[1mhash key = \u001b[0mproduct:B01MAV8EFD-amazon.com\n",
      "\u001b[93mItem Name = \u001b[0mSterling Silver Round-Cut Cubic Zirconia Pendant Necklace, 18\"\n",
      "\u001b[93mItem Keywords = \u001b[0mpendants necklaces pendant necklaces adjustable chain adjustable necklace necklace with extender solitaire necklace CZ CZ jewelry white CZ CZ necklace holiday gift holiday present Christmas gift Christmas present Xmas gift Xmas present X-mas gift X-mas present Hanukkah gift Hanukkah present Chanukah gift Chanukah present fake diamond imitation diamond cheap diamond simulated diamond jewelry for women anniversary gifts for her jewlery cz necklace^ imitation diamond necklace^ cheap diamond necklace^ simulated\n",
      "***************Product  found ************\n",
      "\u001b[1mhash key = \u001b[0mproduct:B005QF2PO8-amazon.co.jp\n",
      "\u001b[93mItem Name = \u001b[0mSterling Silver 0.9mm Diamond Cut Snake \"Y\" Necklace, 16 Sterling Silver Diamond Cut Snake \"Y\" Necklace, 16\"\n",
      "\u001b[93mItem Keywords = \u001b[0mfine fashion fine fashion Classics With A Twist^Daily Wear silver necklace^Italian made jewelry^simple silver necklace^classy silver necklace^good quality silver necklace^delicate silver necklace^shiny sterling silver necklace^jewelry gift^jewelry present^Christmas present^Christmas^sterling silver necklace^necklace chain^silver necklace^anniversary gifts for her^sterling silver chain^womens necklaces^box chain necklace^girlfriend gifts^sterling silver chains for women^mothers day gifts^girls jewelry^amazon\n",
      "***************Product  found ************\n",
      "\u001b[1mhash key = \u001b[0mproduct:B005Q7AA34-amazon.ca\n",
      "\u001b[93mItem Name = \u001b[0m14k White Gold Milgrain Diamond Band (1/4 cttw, IJ Color, I2-I3 Clarity), Size 7\n",
      "\u001b[93mItem Keywords = \u001b[0mmodern jewelry contemporary jewelry\n",
      "CPU times: user 77.7 ms, sys: 131 ms, total: 208 ms\n",
      "Wall time: 243 ms\n"
     ]
    },
    {
     "name": "stderr",
     "output_type": "stream",
     "text": [
      "/Users/edsandoval/opt/anaconda3/envs/vsim/lib/python3.8/site-packages/transformers/tokenization_utils_base.py:2227: UserWarning: `max_length` is ignored when `padding`=`True`.\n",
      "  warnings.warn(\"`max_length` is ignored when `padding`=`True`.\")\n"
     ]
    }
   ],
   "source": [
    "%%time\n",
    "product_query='Fantastic piece of handmade jewllery for a special occasion'\n",
    "#product_query='Ultra modern cool way to pimp my cell'\n",
    "\n",
    "results = find_similar_products_bf (product_query,model,my_bf_index,'item_keywords_vector',5)\n",
    "for product in results.docs:\n",
    "    print ('***************Product  found ************')\n",
    "    print (color.BOLD + 'hash key = ' +  color.END + product.id)\n",
    "    print (color.YELLOW + 'Item Name = ' +  color.END  + product.item_name)\n",
    "    print (color.YELLOW + 'Item Keywords = ' +  color.END  + product.item_keywords_vector_score)"
   ]
  },
  {
   "cell_type": "markdown",
   "id": "90a621f9-472d-462f-842c-db39dfb07bc8",
   "metadata": {},
   "source": [
    "## Check one of the Search Results"
   ]
  },
  {
   "cell_type": "code",
   "execution_count": 15,
   "id": "afa427d8-dad0-44e4-bbae-1aea0746f6a4",
   "metadata": {},
   "outputs": [
    {
     "data": {
      "text/plain": [
       "Document {'id': 'product:B07XVNL49K-amazon.com', 'payload': None, 'item_keywords_vector_score': 'pendant necklace jewelry', 'item_name': '10k White Gold Amethyst and Diamond Accent Pendant Necklace'}"
      ]
     },
     "execution_count": 15,
     "metadata": {},
     "output_type": "execute_result"
    }
   ],
   "source": [
    "results.docs[0]"
   ]
  },
  {
   "cell_type": "code",
   "execution_count": 16,
   "id": "88f00a9c-9f23-4248-9027-399b6656a37c",
   "metadata": {},
   "outputs": [],
   "source": [
    "#Delete index and underlying data\n",
    "delete_data(my_bf_index.redis)\n",
    "\n"
   ]
  },
  {
   "cell_type": "markdown",
   "id": "3e748638-50be-4e4f-b953-a87b5fdea311",
   "metadata": {},
   "source": [
    "# HNSW - Load and Index Product Data\n",
    "Load and index product data using an HNSW Index on the 'item_keywords_vector' field.\n",
    "This index is used to calculate Top K Approximate Nearest Neighbors of a given vector"
   ]
  },
  {
   "cell_type": "code",
   "execution_count": 17,
   "id": "551253af-d833-44b3-97dc-4c0e8dd4ba14",
   "metadata": {},
   "outputs": [
    {
     "name": "stdout",
     "output_type": "stream",
     "text": [
      "Loading and Indexing + 100000 products\n",
      "CPU times: user 31.6 s, sys: 1.45 s, total: 33 s\n",
      "Wall time: 1min 44s\n"
     ]
    }
   ],
   "source": [
    "%%time\n",
    "print ('Loading and Indexing + ' +  str(NUMBER_PRODUCTS) + ' products')\n",
    "my_hnsw_index = create_hnsw_index(redis_conn,'my_hnsw_index','item_keywords_vector',NUMBER_PRODUCTS,768,'L2',M=40,EF=200)\n",
    "load_vectors(my_hnsw_index.redis,subset_df,item_keywords_vectors,'item_keywords_vector')"
   ]
  },
  {
   "cell_type": "markdown",
   "id": "ff708fb3-2926-4201-ab18-d1a6193f569b",
   "metadata": {},
   "source": [
    "# HNSW - Query The Top 5 Similar Products\n",
    "Let's repeat the similarity search but this time using the HNSW index\n",
    "\n",
    "Check the output for 2 very different queries:\n",
    "* Query 1 = 'Fantastic piece of handmade jewllery for a special occasion'\n",
    "* Query 2 = 'Ultra modern cool way to pimp up my phone'\n",
    "\n"
   ]
  },
  {
   "cell_type": "code",
   "execution_count": 23,
   "id": "3eeb687a-2f75-458f-b75c-0a10057a163d",
   "metadata": {},
   "outputs": [
    {
     "name": "stdout",
     "output_type": "stream",
     "text": [
      "CPU times: user 33.8 ms, sys: 3.58 ms, total: 37.4 ms\n",
      "Wall time: 36.9 ms\n"
     ]
    }
   ],
   "source": [
    "%%time\n",
    "#product_query='Fantastic piece of handmade jewllery for a special occasion'\n",
    "product_query='Ultra modern cool way to pimp my cell'\n",
    "\n",
    "results = find_similar_products_hnsw (product_query,model,my_hnsw_index,'item_keywords_vector',5,EF=5)\n",
    "for product in results.docs:\n",
    "    print ('***************Product  found ************')\n",
    "    print (color.BOLD + 'hash key = ' +  color.END + product.id)\n",
    "    print (color.YELLOW + 'Item Name = ' +  color.END  + product.item_name)\n",
    "    print (color.YELLOW + 'Item Keywords = ' +  color.END  + product.item_keywords_vector_score)"
   ]
  },
  {
   "cell_type": "code",
   "execution_count": 24,
   "id": "edda3622-41ab-4f87-b35c-96cc3230aaf5",
   "metadata": {},
   "outputs": [],
   "source": [
    "#cleanup\n",
    "delete_data(my_hnsw_index.redis)"
   ]
  },
  {
   "cell_type": "code",
   "execution_count": null,
   "id": "9fad979b-4c30-4c47-ab08-b6864cf3a7f6",
   "metadata": {},
   "outputs": [],
   "source": []
  }
 ],
 "metadata": {
  "kernelspec": {
   "display_name": "Python [conda env:vsim] *",
   "language": "python",
   "name": "conda-env-vsim-py"
  },
  "language_info": {
   "codemirror_mode": {
    "name": "ipython",
    "version": 3
   },
   "file_extension": ".py",
   "mimetype": "text/x-python",
   "name": "python",
   "nbconvert_exporter": "python",
   "pygments_lexer": "ipython3",
   "version": "3.8.12"
  }
 },
 "nbformat": 4,
 "nbformat_minor": 5
}
