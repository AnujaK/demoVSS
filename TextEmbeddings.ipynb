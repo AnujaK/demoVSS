{
 "cells": [
  {
   "cell_type": "code",
   "execution_count": null,
   "id": "fe5cea5e-9bfc-469a-ae51-5bbf21c5df33",
   "metadata": {},
   "outputs": [],
   "source": [
    "import random\n",
    "import numpy as np\n",
    "import pandas as pd\n",
    "import time\n",
    "from redis import Redis\n",
    "import redisearch\n",
    "\n",
    "class color:\n",
    "   PURPLE = '\\033[95m'\n",
    "   CYAN = '\\033[96m'\n",
    "   DARKCYAN = '\\033[36m'\n",
    "   BLUE = '\\033[94m'\n",
    "   GREEN = '\\033[92m'\n",
    "   YELLOW = '\\033[93m'\n",
    "   RED = '\\033[91m'\n",
    "   BOLD = '\\033[1m'\n",
    "   UNDERLINE = '\\033[4m'\n",
    "   END = '\\033[0m'\n"
   ]
  },
  {
   "cell_type": "markdown",
   "id": "ba969e44-d988-43bd-9953-73bdc3c19a1c",
   "metadata": {
    "tags": []
   },
   "source": [
    "# Load Amazon Product Data\n",
    "\n",
    "Truncate text selected fields on load.  \n",
    "\n",
    "The Max Length supported by the pre-trained sentence embedding generator is 512"
   ]
  },
  {
   "cell_type": "code",
   "execution_count": null,
   "id": "dc187a4a-ef97-41fc-92c7-d0c34eb5ada0",
   "metadata": {},
   "outputs": [],
   "source": [
    "MAX_TEXT_LENGTH=512\n",
    "\n",
    "def auto_truncate(val):\n",
    "    return val[:MAX_TEXT_LENGTH]\n",
    "\n",
    "#Load Product data and truncate long text fields\n",
    "all_prods_df = pd.read_csv(\"data/product_data.csv\", converters={'bullet_point': auto_truncate,'item_keywords':auto_truncate,'item_name':auto_truncate})\n",
    "all_prods_df['primary_key'] = all_prods_df['item_id'] + '-' + all_prods_df['domain_name']\n",
    "all_prods_df = all_prods_df.fillna('')\n",
    "\n"
   ]
  },
  {
   "cell_type": "code",
   "execution_count": null,
   "id": "50c78cdd-49f6-40da-a391-eeb1d2af8139",
   "metadata": {},
   "outputs": [],
   "source": [
    "all_prods_df.head(5)"
   ]
  },
  {
   "cell_type": "markdown",
   "id": "b2261b86-598b-4ab4-be93-e58f34aff3dd",
   "metadata": {
    "tags": []
   },
   "source": [
    "# Connect to Redis"
   ]
  },
  {
   "cell_type": "code",
   "execution_count": null,
   "id": "ef37492f-3360-4cd5-8dd2-23ccdd2b9042",
   "metadata": {},
   "outputs": [],
   "source": [
    "host = 'vecsim'\n",
    "port = 6379\n",
    "redis_conn = Redis(host = host, port = port)\n",
    "print ('Connected to redis')"
   ]
  },
  {
   "cell_type": "markdown",
   "id": "fde0ad07-363e-4414-8684-bbf6c1d13409",
   "metadata": {
    "tags": []
   },
   "source": [
    "# Generate Embeddings\n",
    "\n",
    "We will use a pre-trained sentence embedding generator from\n",
    "\n",
    "https://huggingface.co/sentence-transformers/all-distilroberta-v1"
   ]
  },
  {
   "cell_type": "code",
   "execution_count": null,
   "id": "1dbf1ccf-1d3a-4f8b-9457-a9fb648859dc",
   "metadata": {},
   "outputs": [],
   "source": [
    "from sentence_transformers import SentenceTransformer\n",
    "model = SentenceTransformer('sentence-transformers/all-distilroberta-v1')"
   ]
  },
  {
   "cell_type": "markdown",
   "id": "d5298c8d-3b69-4927-93b5-1981ee729f60",
   "metadata": {
    "tags": []
   },
   "source": [
    "\n",
    "Generate vector representations of the \"item_keywords\"  field for 1000 products\n",
    "\n",
    "The distilroberta-v1 generates a 768-float vector for a given sentence of up to 512 characters"
   ]
  },
  {
   "cell_type": "code",
   "execution_count": null,
   "id": "78834b6f-c383-453d-bd35-e0613c7274ac",
   "metadata": {},
   "outputs": [],
   "source": [
    "%%time\n",
    "NUMBER_PRODUCTS=1000\n",
    "\n",
    "subset_df = all_prods_df.head(NUMBER_PRODUCTS)\n",
    "item_keywords_vectors = [ model.encode(sentence) for sentence in subset_df['item_keywords']]\n"
   ]
  },
  {
   "cell_type": "markdown",
   "id": "39427b16-dc63-45f9-8a2f-e032d8cb010f",
   "metadata": {
    "tags": []
   },
   "source": [
    "### Check the dimensions of one of the vectors generated"
   ]
  },
  {
   "cell_type": "code",
   "execution_count": null,
   "id": "6593534b-9a81-4da3-ae71-7492ef343789",
   "metadata": {},
   "outputs": [],
   "source": [
    "item_keywords_vectors[0].shape"
   ]
  },
  {
   "cell_type": "markdown",
   "id": "dbc7f4d2-1c1a-4847-bf6d-b08610b30c01",
   "metadata": {
    "tags": []
   },
   "source": [
    "# Utility Functions to Load Product Data\n",
    "Each product will be stored in a redis hash\n",
    "* **Hash Key** = **'product:'** + **product_key**\n",
    "* **Hash Fields:** \n",
    "    * Item Id\n",
    "    * Item Name\n",
    "    * Item Keywords (text)\n",
    "    * Item Keywords vector - 768-float vector\n",
    " "
   ]
  },
  {
   "cell_type": "code",
   "execution_count": null,
   "id": "e86b393b-2273-4f26-8779-73896b43c1f9",
   "metadata": {},
   "outputs": [],
   "source": [
    "def load_vectors(client:Redis, product_df, vector_data,vector_field_name):\n",
    "    p = client.pipeline(transaction=False)\n",
    "    for index, row in product_df.iterrows():    \n",
    "        #hash key\n",
    "        key='product:'+ product_df.iloc[index]['primary_key']\n",
    "        #hash fields\n",
    "        item_id=product_df.iloc[index]['item_id']\n",
    "        item_keywords=product_df.iloc[index]['item_keywords']\n",
    "        item_name=product_df.iloc[index]['item_name']\n",
    "        item_keywords_vector = vector_data[index].astype(np.float32).tobytes()\n",
    "        product_data_values ={'item_id':item_id,'item_keywords':item_keywords,\n",
    "                 'item_name':item_name,\n",
    "                 vector_field_name:item_keywords_vector}\n",
    "        \n",
    "        p.hset(key,mapping=product_data_values)\n",
    "    p.execute()\n",
    "    \n",
    "        \n",
    "def delete_data(client: Redis):\n",
    "    client.flushall()"
   ]
  },
  {
   "cell_type": "markdown",
   "id": "5607848c-ce11-44d2-892f-1ffb4778f405",
   "metadata": {},
   "source": [
    "# Utility Functions to Create Indexes on Vector field"
   ]
  },
  {
   "cell_type": "code",
   "execution_count": null,
   "id": "54a6d4e3-b15d-499e-864d-c420fe140810",
   "metadata": {},
   "outputs": [],
   "source": [
    "def create_bf_index (redis_conn,index_name,vector_field_name,number_of_vectors, vector_dimensions=768, distance_metric='L2'):\n",
    "    bf_index = redisearch.Client(index_name, conn=redis_conn)\n",
    "    bf_index.redis.execute_command(\"FT.CREATE\", index_name, \"SCHEMA\",vector_field_name, \"VECTOR\", \"FLOAT32\", vector_dimensions, distance_metric, \"BF\", \"INITIAL_CAP\", number_of_vectors)\n",
    "    return bf_index\n",
    "\n",
    "def create_hnsw_index (redis_conn,index_name,vector_field_name,number_of_vectors, vector_dimensions=768, distance_metric='L2',M=40,EF=200):\n",
    "    hnsw_index = redisearch.Client(index_name, conn=redis_conn)\n",
    "    hnsw_index.redis.execute_command(\"FT.CREATE\", index_name, \"SCHEMA\", vector_field_name, \"VECTOR\", \"FLOAT32\", vector_dimensions, distance_metric, \"HNSW\", \"INITIAL_CAP\", number_of_vectors, \"M\", M, \"EF\", EF)\n",
    "    return hnsw_index\n",
    "\n",
    "def delete_index(vector_index):\n",
    "    delete_data(vector_index.redis)\n",
    "    "
   ]
  },
  {
   "cell_type": "markdown",
   "id": "a182f643-20ca-4306-88b3-bb34c1a96175",
   "metadata": {},
   "source": [
    "# Utility Functions to Perform Similarity Search \n",
    "Using different indexing methods"
   ]
  },
  {
   "cell_type": "code",
   "execution_count": null,
   "id": "932d18c9-4462-43d8-8133-d189ae09b261",
   "metadata": {},
   "outputs": [],
   "source": [
    "def find_similar_products_bf(product_query, query_encoder, vector_index,vector_field_name, topK=5):\n",
    "    #vectorize the query\n",
    "    query_vector = query_encoder.encode(product_query).astype(np.float32).tobytes()\n",
    "    #prepare the query\n",
    "    q = redisearch.Query(f'@{vector_field_name}:[$vec_param TOPK {topK}]').sort_by(f'{vector_field_name}_score').paging(0,topK).return_fields(f'{vector_field_name}_score','item_name','item_keywords')\n",
    "    #Execute the query\n",
    "    results = vector_index.search(q, query_params = {'vec_param': query_vector})\n",
    "    return results \n",
    "\n",
    "def find_similar_products_hnsw(product_query, query_encoder, vector_index,vector_field_name, topK=5,EF=5):\n",
    "    #vectorize the query\n",
    "    query_vector = query_encoder.encode(product_query).astype(np.float32).tobytes()\n",
    "    #prepare the query\n",
    "    q = redisearch.Query(f'@{vector_field_name}:[$vec_param TOPK {topK}]  => {{$EFRUNTIME : {EF}}}').sort_by(f'{vector_field_name}_score').paging(0,topK).return_fields(f'{vector_field_name}_score','item_name','item_keywords')\n",
    "    #Execute the query\n",
    "    results = vector_index.search(q, query_params = {'vec_param': query_vector})\n",
    "    return results \n",
    "\n"
   ]
  },
  {
   "cell_type": "markdown",
   "id": "7ab8085f-b70b-4e8f-831a-21a78d7273a1",
   "metadata": {
    "tags": []
   },
   "source": [
    "# Brute-Force - Load and Index Product Data\n",
    "Load and index product data using a brute-force Index on the 'item_keywords_vector' field.\n",
    "This index is used to calculate Top K Exact Nearest Neighbors of a given vector"
   ]
  },
  {
   "cell_type": "code",
   "execution_count": null,
   "id": "71a27ca3-5ce0-4174-aac1-86ffa6224070",
   "metadata": {},
   "outputs": [],
   "source": [
    "%%time\n",
    "print ('Loading and Indexing + ' +  str(NUMBER_PRODUCTS) + ' products')\n",
    "my_bf_index = create_bf_index(redis_conn,'my_bf_index','item_keywords_vector',NUMBER_PRODUCTS,768,'L2')\n",
    "load_vectors(my_bf_index.redis,subset_df,item_keywords_vectors,'item_keywords_vector')"
   ]
  },
  {
   "cell_type": "markdown",
   "id": "bcdd5a01-5736-4081-b3e4-1551bbb9bd0f",
   "metadata": {},
   "source": [
    "# Brute-Force - Query The Top 5 Similar Products\n",
    "Let's use the brute-force index to find the exact top k nearest neighbors of a given text query\n",
    "\n",
    "Check the output for 2 very different queries:\n",
    "* Query 1 = 'Fantastic piece of handmade jewllery for a special occasion'\n",
    "* Query 2 = 'Ultra modern cool way to pimp up my phone'\n",
    "\n"
   ]
  },
  {
   "cell_type": "code",
   "execution_count": null,
   "id": "7370b56a-1cd2-400b-9b97-ecc6750992ed",
   "metadata": {},
   "outputs": [],
   "source": [
    "%%time\n",
    "#product_query='Fantastic piece of handmade jewllery for a special occasion'\n",
    "product_query='cool way to pimp up my cell'\n",
    "\n",
    "results = find_similar_products_bf (product_query,model,my_bf_index,'item_keywords_vector',5)\n",
    "for product in results.docs:\n",
    "    print ('***************Product  found ************')\n",
    "    print (color.BOLD + 'hash key = ' +  color.END + product.id)\n",
    "    print (color.YELLOW + 'Item Name = ' +  color.END  + product.item_name)\n",
    "    print (color.YELLOW + 'Item Keywords = ' +  color.END  + product.item_keywords_vector_score)"
   ]
  },
  {
   "cell_type": "markdown",
   "id": "90a621f9-472d-462f-842c-db39dfb07bc8",
   "metadata": {},
   "source": [
    "## Check one of the Search Results"
   ]
  },
  {
   "cell_type": "code",
   "execution_count": null,
   "id": "afa427d8-dad0-44e4-bbae-1aea0746f6a4",
   "metadata": {},
   "outputs": [],
   "source": [
    "results.docs[0]"
   ]
  },
  {
   "cell_type": "code",
   "execution_count": null,
   "id": "88f00a9c-9f23-4248-9027-399b6656a37c",
   "metadata": {},
   "outputs": [],
   "source": [
    "#Delete index and underlying data\n",
    "delete_index(my_bf_index)\n",
    "\n"
   ]
  },
  {
   "cell_type": "markdown",
   "id": "3e748638-50be-4e4f-b953-a87b5fdea311",
   "metadata": {},
   "source": [
    "# HNSW - Load and Index Product Data\n",
    "Load and index product data using an HNSW Index on the 'item_keywords_vector' field.\n",
    "This index is used to calculate Top K Approximate Nearest Neighbors of a given vector"
   ]
  },
  {
   "cell_type": "code",
   "execution_count": null,
   "id": "551253af-d833-44b3-97dc-4c0e8dd4ba14",
   "metadata": {},
   "outputs": [],
   "source": [
    "%%time\n",
    "print ('Loading and Indexing + ' +  str(NUMBER_PRODUCTS) + ' products')\n",
    "my_hnsw_index = create_hnsw_index(redis_conn,'my_hnsw_index','item_keywords_vector',NUMBER_PRODUCTS,768,'L2',M=40,EF=200)\n",
    "load_vectors(my_hnsw_index.redis,subset_df,item_keywords_vectors,'item_keywords_vector')"
   ]
  },
  {
   "cell_type": "markdown",
   "id": "ff708fb3-2926-4201-ab18-d1a6193f569b",
   "metadata": {},
   "source": [
    "# HNSW - Query The Top 5 Similar Products\n",
    "Let's repeat the similarity search but this time using the HNSW index\n",
    "\n",
    "Check the output for 2 very different queries:\n",
    "* Query 1 = 'Fantastic piece of handmade jewllery for a special occasion'\n",
    "* Query 2 = 'Ultra modern cool way to pimp up my cell'\n",
    "\n"
   ]
  },
  {
   "cell_type": "code",
   "execution_count": null,
   "id": "3eeb687a-2f75-458f-b75c-0a10057a163d",
   "metadata": {},
   "outputs": [],
   "source": [
    "%%time\n",
    "product_query='Fantastic piece of handmade jewllery for a special occasion'\n",
    "#product_query='Ultra modern cool way to pimp up my cell'\n",
    "\n",
    "results = find_similar_products_hnsw (product_query,model,my_hnsw_index,'item_keywords_vector',5,EF=5)\n",
    "for product in results.docs:\n",
    "    print ('***************Product  found ************')\n",
    "    print (color.BOLD + 'hash key = ' +  color.END + product.id)\n",
    "    print (color.YELLOW + 'Item Name = ' +  color.END  + product.item_name)\n",
    "    print (color.YELLOW + 'Item Keywords = ' +  color.END  + product.item_keywords_vector_score)"
   ]
  },
  {
   "cell_type": "code",
   "execution_count": null,
   "id": "edda3622-41ab-4f87-b35c-96cc3230aaf5",
   "metadata": {},
   "outputs": [],
   "source": [
    "#cleanup\n",
    "delete_index(my_hnsw_index)"
   ]
  },
  {
   "cell_type": "code",
   "execution_count": null,
   "id": "a4570b96",
   "metadata": {},
   "outputs": [],
   "source": []
  }
 ],
 "metadata": {
  "kernelspec": {
   "display_name": "Python 3 (ipykernel)",
   "language": "python",
   "name": "python3"
  },
  "language_info": {
   "codemirror_mode": {
    "name": "ipython",
    "version": 3
   },
   "file_extension": ".py",
   "mimetype": "text/x-python",
   "name": "python",
   "nbconvert_exporter": "python",
   "pygments_lexer": "ipython3",
   "version": "3.9.7"
  }
 },
 "nbformat": 4,
 "nbformat_minor": 5
}
